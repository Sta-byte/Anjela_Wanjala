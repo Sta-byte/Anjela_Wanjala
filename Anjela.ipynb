{
 "cells": [
  {
   "cell_type": "markdown",
   "id": "af89f97b-3354-4de5-be57-e7fff4e9ad29",
   "metadata": {},
   "source": [
    "Importing Libraries"
   ]
  },
  {
   "cell_type": "code",
   "execution_count": 1,
   "id": "4e1935c6-2c6a-4884-9e8b-5d43e01cfeb8",
   "metadata": {},
   "outputs": [],
   "source": [
    "import pandas as pd\n",
    "import numpy as np\n",
    "import matplotlib.pyplot as plt\n",
    "import seaborn as sn\n"
   ]
  },
  {
   "cell_type": "code",
   "execution_count": null,
   "id": "77072136-382b-4ba2-ad93-70c63c70e86e",
   "metadata": {},
   "outputs": [],
   "source": [
    "Working directory"
   ]
  },
  {
   "cell_type": "code",
   "execution_count": 2,
   "id": "02b695fa-bd3c-4d16-8f72-682eef8bad73",
   "metadata": {},
   "outputs": [
    {
     "data": {
      "text/plain": [
       "'C:\\\\Users\\\\Administrator'"
      ]
     },
     "execution_count": 2,
     "metadata": {},
     "output_type": "execute_result"
    }
   ],
   "source": [
    "import os\n",
    "os.getcwd( )"
   ]
  },
  {
   "cell_type": "code",
   "execution_count": null,
   "id": "f89878ea-c1f7-4644-acdc-038504f85f7e",
   "metadata": {},
   "outputs": [],
   "source": [
    "Changing working directory"
   ]
  },
  {
   "cell_type": "code",
   "execution_count": 3,
   "id": "6ada8851-0209-43ce-b2b2-ec9b51843fc7",
   "metadata": {},
   "outputs": [
    {
     "data": {
      "text/plain": [
       "'C:\\\\Users\\\\Administrator\\\\Desktop\\\\shoot'"
      ]
     },
     "execution_count": 3,
     "metadata": {},
     "output_type": "execute_result"
    }
   ],
   "source": [
    "\n",
    "os.chdir('C:/Users/Administrator/Desktop/shoot')\n",
    "os.getcwd( )"
   ]
  },
  {
   "cell_type": "code",
   "execution_count": null,
   "id": "261bb9f8-0a50-4485-acd3-9cf21eb77b60",
   "metadata": {},
   "outputs": [],
   "source": [
    "Reading data using Pandas"
   ]
  },
  {
   "cell_type": "code",
   "execution_count": 4,
   "id": "fe27826e-b3c8-44ad-9772-d5853758db89",
   "metadata": {},
   "outputs": [],
   "source": [
    "\n",
    "df = pd.read_excel('Makert Prices 2022.xlsx')"
   ]
  },
  {
   "cell_type": "code",
   "execution_count": 5,
   "id": "24df5142-37d2-4ebd-af51-4bc49d55fd6e",
   "metadata": {},
   "outputs": [
    {
     "data": {
      "text/html": [
       "<div>\n",
       "<style scoped>\n",
       "    .dataframe tbody tr th:only-of-type {\n",
       "        vertical-align: middle;\n",
       "    }\n",
       "\n",
       "    .dataframe tbody tr th {\n",
       "        vertical-align: top;\n",
       "    }\n",
       "\n",
       "    .dataframe thead th {\n",
       "        text-align: right;\n",
       "    }\n",
       "</style>\n",
       "<table border=\"1\" class=\"dataframe\">\n",
       "  <thead>\n",
       "    <tr style=\"text-align: right;\">\n",
       "      <th></th>\n",
       "      <th>Dates</th>\n",
       "      <th>Seasons</th>\n",
       "      <th>Bull</th>\n",
       "      <th>Cow</th>\n",
       "      <th>Heifer</th>\n",
       "      <th>Steer</th>\n",
       "    </tr>\n",
       "  </thead>\n",
       "  <tbody>\n",
       "    <tr>\n",
       "      <th>0</th>\n",
       "      <td>2009-08-01</td>\n",
       "      <td>Drought</td>\n",
       "      <td>8500.000000</td>\n",
       "      <td>966.666667</td>\n",
       "      <td>1666.666667</td>\n",
       "      <td>766.666667</td>\n",
       "    </tr>\n",
       "    <tr>\n",
       "      <th>1</th>\n",
       "      <td>2009-09-01</td>\n",
       "      <td>Drought</td>\n",
       "      <td>18000.000000</td>\n",
       "      <td>4000.000000</td>\n",
       "      <td>15000.000000</td>\n",
       "      <td>13000.000000</td>\n",
       "    </tr>\n",
       "    <tr>\n",
       "      <th>2</th>\n",
       "      <td>2009-10-01</td>\n",
       "      <td>Drought</td>\n",
       "      <td>8500.000000</td>\n",
       "      <td>5000.000000</td>\n",
       "      <td>8000.000000</td>\n",
       "      <td>9000.000000</td>\n",
       "    </tr>\n",
       "    <tr>\n",
       "      <th>3</th>\n",
       "      <td>2009-11-01</td>\n",
       "      <td>Drought</td>\n",
       "      <td>12484.312740</td>\n",
       "      <td>4815.021851</td>\n",
       "      <td>5198.550137</td>\n",
       "      <td>11302.715033</td>\n",
       "    </tr>\n",
       "    <tr>\n",
       "      <th>4</th>\n",
       "      <td>2009-12-01</td>\n",
       "      <td>Wet</td>\n",
       "      <td>22166.666667</td>\n",
       "      <td>9477.777778</td>\n",
       "      <td>10111.111111</td>\n",
       "      <td>18222.222222</td>\n",
       "    </tr>\n",
       "  </tbody>\n",
       "</table>\n",
       "</div>"
      ],
      "text/plain": [
       "       Dates  Seasons          Bull          Cow        Heifer         Steer\n",
       "0 2009-08-01  Drought   8500.000000   966.666667   1666.666667    766.666667\n",
       "1 2009-09-01  Drought  18000.000000  4000.000000  15000.000000  13000.000000\n",
       "2 2009-10-01  Drought   8500.000000  5000.000000   8000.000000   9000.000000\n",
       "3 2009-11-01  Drought  12484.312740  4815.021851   5198.550137  11302.715033\n",
       "4 2009-12-01      Wet  22166.666667  9477.777778  10111.111111  18222.222222"
      ]
     },
     "execution_count": 5,
     "metadata": {},
     "output_type": "execute_result"
    }
   ],
   "source": [
    "#first 5 rows\n",
    "df.head()\n"
   ]
  },
  {
   "cell_type": "code",
   "execution_count": 6,
   "id": "d1657d36-159a-46ae-bf33-b6bda84334a8",
   "metadata": {},
   "outputs": [
    {
     "name": "stdout",
     "output_type": "stream",
     "text": [
      "<class 'pandas.core.frame.DataFrame'>\n",
      "RangeIndex: 154 entries, 0 to 153\n",
      "Data columns (total 6 columns):\n",
      " #   Column   Non-Null Count  Dtype         \n",
      "---  ------   --------------  -----         \n",
      " 0   Dates    154 non-null    datetime64[ns]\n",
      " 1   Seasons  154 non-null    object        \n",
      " 2   Bull     154 non-null    float64       \n",
      " 3   Cow      154 non-null    float64       \n",
      " 4   Heifer   154 non-null    float64       \n",
      " 5   Steer    154 non-null    float64       \n",
      "dtypes: datetime64[ns](1), float64(4), object(1)\n",
      "memory usage: 7.3+ KB\n"
     ]
    }
   ],
   "source": [
    "df.info()"
   ]
  },
  {
   "cell_type": "code",
   "execution_count": 7,
   "id": "21bc3f88-8227-4d27-a475-918d5cffa29d",
   "metadata": {},
   "outputs": [
    {
     "data": {
      "text/plain": [
       "Dates      datetime64[ns]\n",
       "Seasons            object\n",
       "Bull              float64\n",
       "Cow               float64\n",
       "Heifer            float64\n",
       "Steer             float64\n",
       "dtype: object"
      ]
     },
     "execution_count": 7,
     "metadata": {},
     "output_type": "execute_result"
    }
   ],
   "source": [
    "#data types\n",
    "df.dtypes"
   ]
  },
  {
   "cell_type": "code",
   "execution_count": 8,
   "id": "91b06823-5571-4335-9d41-180823493cb1",
   "metadata": {
    "scrolled": true
   },
   "outputs": [
    {
     "data": {
      "text/html": [
       "<div>\n",
       "<style scoped>\n",
       "    .dataframe tbody tr th:only-of-type {\n",
       "        vertical-align: middle;\n",
       "    }\n",
       "\n",
       "    .dataframe tbody tr th {\n",
       "        vertical-align: top;\n",
       "    }\n",
       "\n",
       "    .dataframe thead th {\n",
       "        text-align: right;\n",
       "    }\n",
       "</style>\n",
       "<table border=\"1\" class=\"dataframe\">\n",
       "  <thead>\n",
       "    <tr style=\"text-align: right;\">\n",
       "      <th></th>\n",
       "      <th>Dates</th>\n",
       "      <th>Seasons</th>\n",
       "      <th>Bull</th>\n",
       "      <th>Cow</th>\n",
       "      <th>Heifer</th>\n",
       "      <th>Steer</th>\n",
       "    </tr>\n",
       "  </thead>\n",
       "  <tbody>\n",
       "    <tr>\n",
       "      <th>0</th>\n",
       "      <td>False</td>\n",
       "      <td>False</td>\n",
       "      <td>False</td>\n",
       "      <td>False</td>\n",
       "      <td>False</td>\n",
       "      <td>False</td>\n",
       "    </tr>\n",
       "    <tr>\n",
       "      <th>1</th>\n",
       "      <td>False</td>\n",
       "      <td>False</td>\n",
       "      <td>False</td>\n",
       "      <td>False</td>\n",
       "      <td>False</td>\n",
       "      <td>False</td>\n",
       "    </tr>\n",
       "    <tr>\n",
       "      <th>2</th>\n",
       "      <td>False</td>\n",
       "      <td>False</td>\n",
       "      <td>False</td>\n",
       "      <td>False</td>\n",
       "      <td>False</td>\n",
       "      <td>False</td>\n",
       "    </tr>\n",
       "    <tr>\n",
       "      <th>3</th>\n",
       "      <td>False</td>\n",
       "      <td>False</td>\n",
       "      <td>False</td>\n",
       "      <td>False</td>\n",
       "      <td>False</td>\n",
       "      <td>False</td>\n",
       "    </tr>\n",
       "    <tr>\n",
       "      <th>4</th>\n",
       "      <td>False</td>\n",
       "      <td>False</td>\n",
       "      <td>False</td>\n",
       "      <td>False</td>\n",
       "      <td>False</td>\n",
       "      <td>False</td>\n",
       "    </tr>\n",
       "    <tr>\n",
       "      <th>...</th>\n",
       "      <td>...</td>\n",
       "      <td>...</td>\n",
       "      <td>...</td>\n",
       "      <td>...</td>\n",
       "      <td>...</td>\n",
       "      <td>...</td>\n",
       "    </tr>\n",
       "    <tr>\n",
       "      <th>149</th>\n",
       "      <td>False</td>\n",
       "      <td>False</td>\n",
       "      <td>False</td>\n",
       "      <td>False</td>\n",
       "      <td>False</td>\n",
       "      <td>False</td>\n",
       "    </tr>\n",
       "    <tr>\n",
       "      <th>150</th>\n",
       "      <td>False</td>\n",
       "      <td>False</td>\n",
       "      <td>False</td>\n",
       "      <td>False</td>\n",
       "      <td>False</td>\n",
       "      <td>False</td>\n",
       "    </tr>\n",
       "    <tr>\n",
       "      <th>151</th>\n",
       "      <td>False</td>\n",
       "      <td>False</td>\n",
       "      <td>False</td>\n",
       "      <td>False</td>\n",
       "      <td>False</td>\n",
       "      <td>False</td>\n",
       "    </tr>\n",
       "    <tr>\n",
       "      <th>152</th>\n",
       "      <td>False</td>\n",
       "      <td>False</td>\n",
       "      <td>False</td>\n",
       "      <td>False</td>\n",
       "      <td>False</td>\n",
       "      <td>False</td>\n",
       "    </tr>\n",
       "    <tr>\n",
       "      <th>153</th>\n",
       "      <td>False</td>\n",
       "      <td>False</td>\n",
       "      <td>False</td>\n",
       "      <td>False</td>\n",
       "      <td>False</td>\n",
       "      <td>False</td>\n",
       "    </tr>\n",
       "  </tbody>\n",
       "</table>\n",
       "<p>154 rows × 6 columns</p>\n",
       "</div>"
      ],
      "text/plain": [
       "     Dates  Seasons   Bull    Cow  Heifer  Steer\n",
       "0    False    False  False  False   False  False\n",
       "1    False    False  False  False   False  False\n",
       "2    False    False  False  False   False  False\n",
       "3    False    False  False  False   False  False\n",
       "4    False    False  False  False   False  False\n",
       "..     ...      ...    ...    ...     ...    ...\n",
       "149  False    False  False  False   False  False\n",
       "150  False    False  False  False   False  False\n",
       "151  False    False  False  False   False  False\n",
       "152  False    False  False  False   False  False\n",
       "153  False    False  False  False   False  False\n",
       "\n",
       "[154 rows x 6 columns]"
      ]
     },
     "execution_count": 8,
     "metadata": {},
     "output_type": "execute_result"
    }
   ],
   "source": [
    "#checking for missing values\n",
    "df.isnull() "
   ]
  },
  {
   "cell_type": "code",
   "execution_count": 9,
   "id": "1dd3b038-e055-45e8-82d0-eb3ebf4d7d20",
   "metadata": {},
   "outputs": [],
   "source": [
    "from sklearn.model_selection import train_test_split\n",
    "x = df.drop(['Bull','Cow','Heifer','Steer'], axis=1 ) \n",
    "y = df.drop(['Dates','Seasons'], axis=1)\n"
   ]
  },
  {
   "cell_type": "code",
   "execution_count": 10,
   "id": "86c285ac-06f0-436e-82ea-f5e551b9f377",
   "metadata": {},
   "outputs": [
    {
     "data": {
      "text/html": [
       "<div>\n",
       "<style scoped>\n",
       "    .dataframe tbody tr th:only-of-type {\n",
       "        vertical-align: middle;\n",
       "    }\n",
       "\n",
       "    .dataframe tbody tr th {\n",
       "        vertical-align: top;\n",
       "    }\n",
       "\n",
       "    .dataframe thead th {\n",
       "        text-align: right;\n",
       "    }\n",
       "</style>\n",
       "<table border=\"1\" class=\"dataframe\">\n",
       "  <thead>\n",
       "    <tr style=\"text-align: right;\">\n",
       "      <th></th>\n",
       "      <th>Dates</th>\n",
       "      <th>Seasons</th>\n",
       "    </tr>\n",
       "  </thead>\n",
       "  <tbody>\n",
       "    <tr>\n",
       "      <th>0</th>\n",
       "      <td>2009-08-01</td>\n",
       "      <td>Drought</td>\n",
       "    </tr>\n",
       "    <tr>\n",
       "      <th>1</th>\n",
       "      <td>2009-09-01</td>\n",
       "      <td>Drought</td>\n",
       "    </tr>\n",
       "    <tr>\n",
       "      <th>2</th>\n",
       "      <td>2009-10-01</td>\n",
       "      <td>Drought</td>\n",
       "    </tr>\n",
       "    <tr>\n",
       "      <th>3</th>\n",
       "      <td>2009-11-01</td>\n",
       "      <td>Drought</td>\n",
       "    </tr>\n",
       "    <tr>\n",
       "      <th>4</th>\n",
       "      <td>2009-12-01</td>\n",
       "      <td>Wet</td>\n",
       "    </tr>\n",
       "    <tr>\n",
       "      <th>...</th>\n",
       "      <td>...</td>\n",
       "      <td>...</td>\n",
       "    </tr>\n",
       "    <tr>\n",
       "      <th>149</th>\n",
       "      <td>2022-01-01</td>\n",
       "      <td>dry</td>\n",
       "    </tr>\n",
       "    <tr>\n",
       "      <th>150</th>\n",
       "      <td>2022-03-10</td>\n",
       "      <td>dry</td>\n",
       "    </tr>\n",
       "    <tr>\n",
       "      <th>151</th>\n",
       "      <td>2022-04-15</td>\n",
       "      <td>dry</td>\n",
       "    </tr>\n",
       "    <tr>\n",
       "      <th>152</th>\n",
       "      <td>2022-05-20</td>\n",
       "      <td>dry</td>\n",
       "    </tr>\n",
       "    <tr>\n",
       "      <th>153</th>\n",
       "      <td>2022-07-29</td>\n",
       "      <td>dry</td>\n",
       "    </tr>\n",
       "  </tbody>\n",
       "</table>\n",
       "<p>154 rows × 2 columns</p>\n",
       "</div>"
      ],
      "text/plain": [
       "         Dates  Seasons\n",
       "0   2009-08-01  Drought\n",
       "1   2009-09-01  Drought\n",
       "2   2009-10-01  Drought\n",
       "3   2009-11-01  Drought\n",
       "4   2009-12-01      Wet\n",
       "..         ...      ...\n",
       "149 2022-01-01      dry\n",
       "150 2022-03-10      dry\n",
       "151 2022-04-15      dry\n",
       "152 2022-05-20      dry\n",
       "153 2022-07-29      dry\n",
       "\n",
       "[154 rows x 2 columns]"
      ]
     },
     "execution_count": 10,
     "metadata": {},
     "output_type": "execute_result"
    }
   ],
   "source": [
    "x"
   ]
  },
  {
   "cell_type": "code",
   "execution_count": 11,
   "id": "d8f64673-8031-4489-8682-29c349e5a655",
   "metadata": {},
   "outputs": [
    {
     "data": {
      "text/html": [
       "<div>\n",
       "<style scoped>\n",
       "    .dataframe tbody tr th:only-of-type {\n",
       "        vertical-align: middle;\n",
       "    }\n",
       "\n",
       "    .dataframe tbody tr th {\n",
       "        vertical-align: top;\n",
       "    }\n",
       "\n",
       "    .dataframe thead th {\n",
       "        text-align: right;\n",
       "    }\n",
       "</style>\n",
       "<table border=\"1\" class=\"dataframe\">\n",
       "  <thead>\n",
       "    <tr style=\"text-align: right;\">\n",
       "      <th></th>\n",
       "      <th>Bull</th>\n",
       "      <th>Cow</th>\n",
       "      <th>Heifer</th>\n",
       "      <th>Steer</th>\n",
       "    </tr>\n",
       "  </thead>\n",
       "  <tbody>\n",
       "    <tr>\n",
       "      <th>0</th>\n",
       "      <td>8500.000000</td>\n",
       "      <td>966.666667</td>\n",
       "      <td>1666.666667</td>\n",
       "      <td>766.666667</td>\n",
       "    </tr>\n",
       "    <tr>\n",
       "      <th>1</th>\n",
       "      <td>18000.000000</td>\n",
       "      <td>4000.000000</td>\n",
       "      <td>15000.000000</td>\n",
       "      <td>13000.000000</td>\n",
       "    </tr>\n",
       "    <tr>\n",
       "      <th>2</th>\n",
       "      <td>8500.000000</td>\n",
       "      <td>5000.000000</td>\n",
       "      <td>8000.000000</td>\n",
       "      <td>9000.000000</td>\n",
       "    </tr>\n",
       "    <tr>\n",
       "      <th>3</th>\n",
       "      <td>12484.312740</td>\n",
       "      <td>4815.021851</td>\n",
       "      <td>5198.550137</td>\n",
       "      <td>11302.715033</td>\n",
       "    </tr>\n",
       "    <tr>\n",
       "      <th>4</th>\n",
       "      <td>22166.666667</td>\n",
       "      <td>9477.777778</td>\n",
       "      <td>10111.111111</td>\n",
       "      <td>18222.222222</td>\n",
       "    </tr>\n",
       "    <tr>\n",
       "      <th>...</th>\n",
       "      <td>...</td>\n",
       "      <td>...</td>\n",
       "      <td>...</td>\n",
       "      <td>...</td>\n",
       "    </tr>\n",
       "    <tr>\n",
       "      <th>149</th>\n",
       "      <td>69500.000000</td>\n",
       "      <td>35000.000000</td>\n",
       "      <td>27500.000000</td>\n",
       "      <td>65000.000000</td>\n",
       "    </tr>\n",
       "    <tr>\n",
       "      <th>150</th>\n",
       "      <td>65000.000000</td>\n",
       "      <td>33000.000000</td>\n",
       "      <td>21500.000000</td>\n",
       "      <td>57500.000000</td>\n",
       "    </tr>\n",
       "    <tr>\n",
       "      <th>151</th>\n",
       "      <td>57500.000000</td>\n",
       "      <td>22500.000000</td>\n",
       "      <td>14500.000000</td>\n",
       "      <td>50000.000000</td>\n",
       "    </tr>\n",
       "    <tr>\n",
       "      <th>152</th>\n",
       "      <td>40000.000000</td>\n",
       "      <td>20000.000000</td>\n",
       "      <td>10000.000000</td>\n",
       "      <td>30000.000000</td>\n",
       "    </tr>\n",
       "    <tr>\n",
       "      <th>153</th>\n",
       "      <td>55000.000000</td>\n",
       "      <td>16000.000000</td>\n",
       "      <td>6500.000000</td>\n",
       "      <td>40000.000000</td>\n",
       "    </tr>\n",
       "  </tbody>\n",
       "</table>\n",
       "<p>154 rows × 4 columns</p>\n",
       "</div>"
      ],
      "text/plain": [
       "             Bull           Cow        Heifer         Steer\n",
       "0     8500.000000    966.666667   1666.666667    766.666667\n",
       "1    18000.000000   4000.000000  15000.000000  13000.000000\n",
       "2     8500.000000   5000.000000   8000.000000   9000.000000\n",
       "3    12484.312740   4815.021851   5198.550137  11302.715033\n",
       "4    22166.666667   9477.777778  10111.111111  18222.222222\n",
       "..            ...           ...           ...           ...\n",
       "149  69500.000000  35000.000000  27500.000000  65000.000000\n",
       "150  65000.000000  33000.000000  21500.000000  57500.000000\n",
       "151  57500.000000  22500.000000  14500.000000  50000.000000\n",
       "152  40000.000000  20000.000000  10000.000000  30000.000000\n",
       "153  55000.000000  16000.000000   6500.000000  40000.000000\n",
       "\n",
       "[154 rows x 4 columns]"
      ]
     },
     "execution_count": 11,
     "metadata": {},
     "output_type": "execute_result"
    }
   ],
   "source": [
    "y"
   ]
  },
  {
   "cell_type": "markdown",
   "id": "e2dc345b-9889-43dc-9792-5c4dbf01ada9",
   "metadata": {},
   "source": [
    "Hyper Parameter tuning, testing data 0.2, training data= 0.8"
   ]
  },
  {
   "cell_type": "code",
   "execution_count": 12,
   "id": "fd488aee-68c9-4a21-943e-0ef84c8e4811",
   "metadata": {},
   "outputs": [],
   "source": [
    "x_train,x_test,y_train, y_test=train_test_split (x,y, test_size=0.2)"
   ]
  },
  {
   "cell_type": "code",
   "execution_count": 13,
   "id": "84a8f298-084a-4e46-b8e4-506e0f8d2348",
   "metadata": {},
   "outputs": [],
   "source": [
    "train_data=x_train.join(y_train)"
   ]
  },
  {
   "cell_type": "code",
   "execution_count": 14,
   "id": "323f8071-f6f9-452c-aad4-7ea708d73239",
   "metadata": {},
   "outputs": [
    {
     "data": {
      "text/html": [
       "<div>\n",
       "<style scoped>\n",
       "    .dataframe tbody tr th:only-of-type {\n",
       "        vertical-align: middle;\n",
       "    }\n",
       "\n",
       "    .dataframe tbody tr th {\n",
       "        vertical-align: top;\n",
       "    }\n",
       "\n",
       "    .dataframe thead th {\n",
       "        text-align: right;\n",
       "    }\n",
       "</style>\n",
       "<table border=\"1\" class=\"dataframe\">\n",
       "  <thead>\n",
       "    <tr style=\"text-align: right;\">\n",
       "      <th></th>\n",
       "      <th>Dates</th>\n",
       "      <th>Seasons</th>\n",
       "      <th>Bull</th>\n",
       "      <th>Cow</th>\n",
       "      <th>Heifer</th>\n",
       "      <th>Steer</th>\n",
       "    </tr>\n",
       "  </thead>\n",
       "  <tbody>\n",
       "    <tr>\n",
       "      <th>53</th>\n",
       "      <td>2014-01-01</td>\n",
       "      <td>Wet</td>\n",
       "      <td>65000.000000</td>\n",
       "      <td>30000.000000</td>\n",
       "      <td>35000.000000</td>\n",
       "      <td>40000.000000</td>\n",
       "    </tr>\n",
       "    <tr>\n",
       "      <th>19</th>\n",
       "      <td>2011-03-01</td>\n",
       "      <td>Wet</td>\n",
       "      <td>53184.680635</td>\n",
       "      <td>34365.339265</td>\n",
       "      <td>29520.160828</td>\n",
       "      <td>53324.763720</td>\n",
       "    </tr>\n",
       "    <tr>\n",
       "      <th>10</th>\n",
       "      <td>2010-06-01</td>\n",
       "      <td>Dry</td>\n",
       "      <td>59204.209096</td>\n",
       "      <td>33537.113641</td>\n",
       "      <td>19108.717996</td>\n",
       "      <td>47141.187964</td>\n",
       "    </tr>\n",
       "    <tr>\n",
       "      <th>123</th>\n",
       "      <td>2019-11-01</td>\n",
       "      <td>drought</td>\n",
       "      <td>55097.701105</td>\n",
       "      <td>28422.446938</td>\n",
       "      <td>24423.480985</td>\n",
       "      <td>45569.983771</td>\n",
       "    </tr>\n",
       "    <tr>\n",
       "      <th>147</th>\n",
       "      <td>2021-11-01</td>\n",
       "      <td>dry</td>\n",
       "      <td>49365.230261</td>\n",
       "      <td>32044.134757</td>\n",
       "      <td>26492.227723</td>\n",
       "      <td>45091.639964</td>\n",
       "    </tr>\n",
       "    <tr>\n",
       "      <th>...</th>\n",
       "      <td>...</td>\n",
       "      <td>...</td>\n",
       "      <td>...</td>\n",
       "      <td>...</td>\n",
       "      <td>...</td>\n",
       "      <td>...</td>\n",
       "    </tr>\n",
       "    <tr>\n",
       "      <th>119</th>\n",
       "      <td>2019-07-01</td>\n",
       "      <td>drought</td>\n",
       "      <td>60314.355204</td>\n",
       "      <td>30250.461392</td>\n",
       "      <td>28364.014570</td>\n",
       "      <td>40763.480278</td>\n",
       "    </tr>\n",
       "    <tr>\n",
       "      <th>27</th>\n",
       "      <td>2011-11-01</td>\n",
       "      <td>Wet</td>\n",
       "      <td>41500.000000</td>\n",
       "      <td>25000.000000</td>\n",
       "      <td>19500.000000</td>\n",
       "      <td>40500.000000</td>\n",
       "    </tr>\n",
       "    <tr>\n",
       "      <th>112</th>\n",
       "      <td>2018-12-01</td>\n",
       "      <td>Wet</td>\n",
       "      <td>78000.000000</td>\n",
       "      <td>39000.000000</td>\n",
       "      <td>38000.000000</td>\n",
       "      <td>56000.000000</td>\n",
       "    </tr>\n",
       "    <tr>\n",
       "      <th>131</th>\n",
       "      <td>2020-07-01</td>\n",
       "      <td>dry</td>\n",
       "      <td>57937.308657</td>\n",
       "      <td>24732.817003</td>\n",
       "      <td>25692.952644</td>\n",
       "      <td>36564.007188</td>\n",
       "    </tr>\n",
       "    <tr>\n",
       "      <th>148</th>\n",
       "      <td>2021-12-01</td>\n",
       "      <td>dry</td>\n",
       "      <td>40000.000000</td>\n",
       "      <td>22000.000000</td>\n",
       "      <td>20000.000000</td>\n",
       "      <td>32000.000000</td>\n",
       "    </tr>\n",
       "  </tbody>\n",
       "</table>\n",
       "<p>123 rows × 6 columns</p>\n",
       "</div>"
      ],
      "text/plain": [
       "         Dates  Seasons          Bull           Cow        Heifer  \\\n",
       "53  2014-01-01      Wet  65000.000000  30000.000000  35000.000000   \n",
       "19  2011-03-01      Wet  53184.680635  34365.339265  29520.160828   \n",
       "10  2010-06-01      Dry  59204.209096  33537.113641  19108.717996   \n",
       "123 2019-11-01  drought  55097.701105  28422.446938  24423.480985   \n",
       "147 2021-11-01      dry  49365.230261  32044.134757  26492.227723   \n",
       "..         ...      ...           ...           ...           ...   \n",
       "119 2019-07-01  drought  60314.355204  30250.461392  28364.014570   \n",
       "27  2011-11-01      Wet  41500.000000  25000.000000  19500.000000   \n",
       "112 2018-12-01      Wet  78000.000000  39000.000000  38000.000000   \n",
       "131 2020-07-01      dry  57937.308657  24732.817003  25692.952644   \n",
       "148 2021-12-01      dry  40000.000000  22000.000000  20000.000000   \n",
       "\n",
       "            Steer  \n",
       "53   40000.000000  \n",
       "19   53324.763720  \n",
       "10   47141.187964  \n",
       "123  45569.983771  \n",
       "147  45091.639964  \n",
       "..            ...  \n",
       "119  40763.480278  \n",
       "27   40500.000000  \n",
       "112  56000.000000  \n",
       "131  36564.007188  \n",
       "148  32000.000000  \n",
       "\n",
       "[123 rows x 6 columns]"
      ]
     },
     "execution_count": 14,
     "metadata": {},
     "output_type": "execute_result"
    }
   ],
   "source": [
    "train_data\n"
   ]
  },
  {
   "cell_type": "code",
   "execution_count": 15,
   "id": "6b350d43-99d8-4ecb-b5ec-8783fc27d71d",
   "metadata": {},
   "outputs": [],
   "source": [
    "train_data['Bull']=np.log(train_data['Bull']+1)\n",
    "train_data['Cow']=np.log(train_data['Cow']+1)\n",
    "train_data['Heifer']=np.log(train_data['Heifer']+1)\n",
    "train_data['Steer']=np.log(train_data['Steer']+1)"
   ]
  },
  {
   "cell_type": "code",
   "execution_count": 16,
   "id": "a2501be0-622d-4c5f-84ff-8268c2e66d3c",
   "metadata": {},
   "outputs": [
    {
     "data": {
      "text/plain": [
       "array([[<Axes: title={'center': 'Dates'}>,\n",
       "        <Axes: title={'center': 'Bull'}>],\n",
       "       [<Axes: title={'center': 'Cow'}>,\n",
       "        <Axes: title={'center': 'Heifer'}>],\n",
       "       [<Axes: title={'center': 'Steer'}>, <Axes: >]], dtype=object)"
      ]
     },
     "execution_count": 16,
     "metadata": {},
     "output_type": "execute_result"
    },
    {
     "data": {
      "image/png": "[encoded data removed]",
      "text/plain": [
       "<Figure size 1500x800 with 6 Axes>"
      ]
     },
     "metadata": {},
     "output_type": "display_data"
    }
   ],
   "source": [
    "train_data.hist(figsize=(15,8))\n"
   ]
  },
  {
   "cell_type": "markdown",
   "id": "7d85cecf-5853-4bc6-bd42-fad5fdf8513a",
   "metadata": {},
   "source": [
    "One-Hot Encoding  to convert categorical data ta numerical values."
   ]
  },
  {
   "cell_type": "code",
   "execution_count": 17,
   "id": "6c0b00e6-ad8c-4711-bd8a-e7e5f468f6a6",
   "metadata": {},
   "outputs": [
    {
     "data": {
      "text/plain": [
       "Seasons\n",
       "Wet        40\n",
       "Dry        38\n",
       "dry        19\n",
       "Drought    11\n",
       "drought    10\n",
       "wet         5\n",
       "Name: count, dtype: int64"
      ]
     },
     "execution_count": 17,
     "metadata": {},
     "output_type": "execute_result"
    }
   ],
   "source": [
    "train_data.Seasons.value_counts()"
   ]
  },
  {
   "cell_type": "code",
   "execution_count": 18,
   "id": "ae741dd6-fad0-4908-8a9c-5a6037f32395",
   "metadata": {},
   "outputs": [],
   "source": [
    "train_data = train_data.join((pd.get_dummies(train_data.Seasons))).drop(['Seasons'],axis=1)\n",
    "train_data[\"Drought\"] = train_data[\"Drought\"].astype(int)\n",
    "train_data[\"drought\"] = train_data[\"drought\"].astype(int)\n",
    "train_data[\"Wet\"] = train_data[\"Wet\"].astype(int)\n",
    "train_data[\"wet\"] = train_data[\"wet\"].astype(int)\n",
    "train_data[\"Dry\"] = train_data[\"Dry\"].astype(int)\n",
    "train_data[\"dry\"] = train_data[\"dry\"].astype(int)"
   ]
  },
  {
   "cell_type": "code",
   "execution_count": 19,
   "id": "87ff2182-9855-4c7a-ba53-205881148173",
   "metadata": {},
   "outputs": [
    {
     "data": {
      "text/html": [
       "<div>\n",
       "<style scoped>\n",
       "    .dataframe tbody tr th:only-of-type {\n",
       "        vertical-align: middle;\n",
       "    }\n",
       "\n",
       "    .dataframe tbody tr th {\n",
       "        vertical-align: top;\n",
       "    }\n",
       "\n",
       "    .dataframe thead th {\n",
       "        text-align: right;\n",
       "    }\n",
       "</style>\n",
       "<table border=\"1\" class=\"dataframe\">\n",
       "  <thead>\n",
       "    <tr style=\"text-align: right;\">\n",
       "      <th></th>\n",
       "      <th>Dates</th>\n",
       "      <th>Bull</th>\n",
       "      <th>Cow</th>\n",
       "      <th>Heifer</th>\n",
       "      <th>Steer</th>\n",
       "      <th>Drought</th>\n",
       "      <th>Dry</th>\n",
       "      <th>Wet</th>\n",
       "      <th>drought</th>\n",
       "      <th>dry</th>\n",
       "      <th>wet</th>\n",
       "    </tr>\n",
       "  </thead>\n",
       "  <tbody>\n",
       "    <tr>\n",
       "      <th>53</th>\n",
       "      <td>2014-01-01</td>\n",
       "      <td>11.082158</td>\n",
       "      <td>10.308986</td>\n",
       "      <td>10.463132</td>\n",
       "      <td>10.596660</td>\n",
       "      <td>0</td>\n",
       "      <td>0</td>\n",
       "      <td>1</td>\n",
       "      <td>0</td>\n",
       "      <td>0</td>\n",
       "      <td>0</td>\n",
       "    </tr>\n",
       "    <tr>\n",
       "      <th>19</th>\n",
       "      <td>2011-03-01</td>\n",
       "      <td>10.881544</td>\n",
       "      <td>10.444833</td>\n",
       "      <td>10.292863</td>\n",
       "      <td>10.884175</td>\n",
       "      <td>0</td>\n",
       "      <td>0</td>\n",
       "      <td>1</td>\n",
       "      <td>0</td>\n",
       "      <td>0</td>\n",
       "      <td>0</td>\n",
       "    </tr>\n",
       "    <tr>\n",
       "      <th>10</th>\n",
       "      <td>2010-06-01</td>\n",
       "      <td>10.988765</td>\n",
       "      <td>10.420438</td>\n",
       "      <td>9.857952</td>\n",
       "      <td>10.760924</td>\n",
       "      <td>0</td>\n",
       "      <td>1</td>\n",
       "      <td>0</td>\n",
       "      <td>0</td>\n",
       "      <td>0</td>\n",
       "      <td>0</td>\n",
       "    </tr>\n",
       "    <tr>\n",
       "      <th>123</th>\n",
       "      <td>2019-11-01</td>\n",
       "      <td>10.916881</td>\n",
       "      <td>10.254970</td>\n",
       "      <td>10.103341</td>\n",
       "      <td>10.727026</td>\n",
       "      <td>0</td>\n",
       "      <td>0</td>\n",
       "      <td>0</td>\n",
       "      <td>1</td>\n",
       "      <td>0</td>\n",
       "      <td>0</td>\n",
       "    </tr>\n",
       "    <tr>\n",
       "      <th>147</th>\n",
       "      <td>2021-11-01</td>\n",
       "      <td>10.807022</td>\n",
       "      <td>10.374901</td>\n",
       "      <td>10.184644</td>\n",
       "      <td>10.716474</td>\n",
       "      <td>0</td>\n",
       "      <td>0</td>\n",
       "      <td>0</td>\n",
       "      <td>0</td>\n",
       "      <td>1</td>\n",
       "      <td>0</td>\n",
       "    </tr>\n",
       "    <tr>\n",
       "      <th>...</th>\n",
       "      <td>...</td>\n",
       "      <td>...</td>\n",
       "      <td>...</td>\n",
       "      <td>...</td>\n",
       "      <td>...</td>\n",
       "      <td>...</td>\n",
       "      <td>...</td>\n",
       "      <td>...</td>\n",
       "      <td>...</td>\n",
       "      <td>...</td>\n",
       "      <td>...</td>\n",
       "    </tr>\n",
       "    <tr>\n",
       "      <th>119</th>\n",
       "      <td>2019-07-01</td>\n",
       "      <td>11.007342</td>\n",
       "      <td>10.317300</td>\n",
       "      <td>10.252912</td>\n",
       "      <td>10.615566</td>\n",
       "      <td>0</td>\n",
       "      <td>0</td>\n",
       "      <td>0</td>\n",
       "      <td>1</td>\n",
       "      <td>0</td>\n",
       "      <td>0</td>\n",
       "    </tr>\n",
       "    <tr>\n",
       "      <th>27</th>\n",
       "      <td>2011-11-01</td>\n",
       "      <td>10.633473</td>\n",
       "      <td>10.126671</td>\n",
       "      <td>9.878221</td>\n",
       "      <td>10.609082</td>\n",
       "      <td>0</td>\n",
       "      <td>0</td>\n",
       "      <td>1</td>\n",
       "      <td>0</td>\n",
       "      <td>0</td>\n",
       "      <td>0</td>\n",
       "    </tr>\n",
       "    <tr>\n",
       "      <th>112</th>\n",
       "      <td>2018-12-01</td>\n",
       "      <td>11.264477</td>\n",
       "      <td>10.571343</td>\n",
       "      <td>10.545368</td>\n",
       "      <td>10.933125</td>\n",
       "      <td>0</td>\n",
       "      <td>0</td>\n",
       "      <td>1</td>\n",
       "      <td>0</td>\n",
       "      <td>0</td>\n",
       "      <td>0</td>\n",
       "    </tr>\n",
       "    <tr>\n",
       "      <th>131</th>\n",
       "      <td>2020-07-01</td>\n",
       "      <td>10.967134</td>\n",
       "      <td>10.115927</td>\n",
       "      <td>10.154011</td>\n",
       "      <td>10.506847</td>\n",
       "      <td>0</td>\n",
       "      <td>0</td>\n",
       "      <td>0</td>\n",
       "      <td>0</td>\n",
       "      <td>1</td>\n",
       "      <td>0</td>\n",
       "    </tr>\n",
       "    <tr>\n",
       "      <th>148</th>\n",
       "      <td>2021-12-01</td>\n",
       "      <td>10.596660</td>\n",
       "      <td>9.998843</td>\n",
       "      <td>9.903538</td>\n",
       "      <td>10.373522</td>\n",
       "      <td>0</td>\n",
       "      <td>0</td>\n",
       "      <td>0</td>\n",
       "      <td>0</td>\n",
       "      <td>1</td>\n",
       "      <td>0</td>\n",
       "    </tr>\n",
       "  </tbody>\n",
       "</table>\n",
       "<p>123 rows × 11 columns</p>\n",
       "</div>"
      ],
      "text/plain": [
       "         Dates       Bull        Cow     Heifer      Steer  Drought  Dry  Wet  \\\n",
       "53  2014-01-01  11.082158  10.308986  10.463132  10.596660        0    0    1   \n",
       "19  2011-03-01  10.881544  10.444833  10.292863  10.884175        0    0    1   \n",
       "10  2010-06-01  10.988765  10.420438   9.857952  10.760924        0    1    0   \n",
       "123 2019-11-01  10.916881  10.254970  10.103341  10.727026        0    0    0   \n",
       "147 2021-11-01  10.807022  10.374901  10.184644  10.716474        0    0    0   \n",
       "..         ...        ...        ...        ...        ...      ...  ...  ...   \n",
       "119 2019-07-01  11.007342  10.317300  10.252912  10.615566        0    0    0   \n",
       "27  2011-11-01  10.633473  10.126671   9.878221  10.609082        0    0    1   \n",
       "112 2018-12-01  11.264477  10.571343  10.545368  10.933125        0    0    1   \n",
       "131 2020-07-01  10.967134  10.115927  10.154011  10.506847        0    0    0   \n",
       "148 2021-12-01  10.596660   9.998843   9.903538  10.373522        0    0    0   \n",
       "\n",
       "     drought  dry  wet  \n",
       "53         0    0    0  \n",
       "19         0    0    0  \n",
       "10         0    0    0  \n",
       "123        1    0    0  \n",
       "147        0    1    0  \n",
       "..       ...  ...  ...  \n",
       "119        1    0    0  \n",
       "27         0    0    0  \n",
       "112        0    0    0  \n",
       "131        0    1    0  \n",
       "148        0    1    0  \n",
       "\n",
       "[123 rows x 11 columns]"
      ]
     },
     "execution_count": 19,
     "metadata": {},
     "output_type": "execute_result"
    }
   ],
   "source": [
    "train_data"
   ]
  },
  {
   "cell_type": "code",
   "execution_count": 20,
   "id": "45b1e194-b6c2-4c6a-8119-2dda8f14e9c5",
   "metadata": {},
   "outputs": [
    {
     "data": {
      "text/plain": [
       "Dates      datetime64[ns]\n",
       "Bull              float64\n",
       "Cow               float64\n",
       "Heifer            float64\n",
       "Steer             float64\n",
       "Drought             int32\n",
       "Dry                 int32\n",
       "Wet                 int32\n",
       "drought             int32\n",
       "dry                 int32\n",
       "wet                 int32\n",
       "dtype: object"
      ]
     },
     "execution_count": 20,
     "metadata": {},
     "output_type": "execute_result"
    }
   ],
   "source": [
    "train_data.dtypes"
   ]
  },
  {
   "cell_type": "code",
   "execution_count": 21,
   "id": "cff3225a-84eb-485e-b039-2826540366bc",
   "metadata": {},
   "outputs": [
    {
     "data": {
      "text/plain": [
       "<Axes: >"
      ]
     },
     "execution_count": 21,
     "metadata": {},
     "output_type": "execute_result"
    },
    {
     "data": {
      "image/png": "[encoded data removed]",
      "text/plain": [
       "<Figure size 1500x800 with 2 Axes>"
      ]
     },
     "metadata": {},
     "output_type": "display_data"
    }
   ],
   "source": [
    "plt.figure(figsize=(15,8))\n",
    "sn.heatmap(train_data.corr(),annot= True)"
   ]
  },
  {
   "cell_type": "markdown",
   "id": "da38fa3e-5bf0-4866-b97a-900987988105",
   "metadata": {},
   "source": [
    "There is correlation between types of livestocks"
   ]
  },
  {
   "cell_type": "code",
   "execution_count": 22,
   "id": "cc25d35d-fd56-452d-acf9-7f63dc8127f2",
   "metadata": {},
   "outputs": [
    {
     "name": "stderr",
     "output_type": "stream",
     "text": [
      "C:\\Users\\Administrator\\anaconda3\\Lib\\site-packages\\seaborn\\utils.py:122: UserWarning: No data for colormapping provided via 'c'. Parameters 'cmap' will be ignored\n",
      "  scout = method(scout_x, scout_y, **kws)\n",
      "C:\\Users\\Administrator\\anaconda3\\Lib\\site-packages\\seaborn\\relational.py:573: UserWarning: No data for colormapping provided via 'c'. Parameters 'cmap' will be ignored\n",
      "  points = ax.scatter(x=x, y=y, **kws)\n",
      "C:\\Users\\Administrator\\anaconda3\\Lib\\site-packages\\seaborn\\utils.py:122: UserWarning: No data for colormapping provided via 'c'. Parameters 'cmap' will be ignored\n",
      "  scout = method(scout_x, scout_y, **kws)\n",
      "C:\\Users\\Administrator\\anaconda3\\Lib\\site-packages\\seaborn\\relational.py:573: UserWarning: No data for colormapping provided via 'c'. Parameters 'cmap' will be ignored\n",
      "  points = ax.scatter(x=x, y=y, **kws)\n",
      "C:\\Users\\Administrator\\anaconda3\\Lib\\site-packages\\seaborn\\utils.py:122: UserWarning: No data for colormapping provided via 'c'. Parameters 'cmap' will be ignored\n",
      "  scout = method(scout_x, scout_y, **kws)\n",
      "C:\\Users\\Administrator\\anaconda3\\Lib\\site-packages\\seaborn\\relational.py:573: UserWarning: No data for colormapping provided via 'c'. Parameters 'cmap' will be ignored\n",
      "  points = ax.scatter(x=x, y=y, **kws)\n",
      "C:\\Users\\Administrator\\anaconda3\\Lib\\site-packages\\seaborn\\utils.py:122: UserWarning: No data for colormapping provided via 'c'. Parameters 'cmap' will be ignored\n",
      "  scout = method(scout_x, scout_y, **kws)\n",
      "C:\\Users\\Administrator\\anaconda3\\Lib\\site-packages\\seaborn\\relational.py:573: UserWarning: No data for colormapping provided via 'c'. Parameters 'cmap' will be ignored\n",
      "  points = ax.scatter(x=x, y=y, **kws)\n"
     ]
    },
    {
     "data": {
      "text/plain": [
       "<Axes: xlabel='Dates', ylabel='Bull'>"
      ]
     },
     "execution_count": 22,
     "metadata": {},
     "output_type": "execute_result"
    },
    {
     "data": {
      "image/png": "[encoded data removed]",
      "text/plain": [
       "<Figure size 1500x800 with 1 Axes>"
      ]
     },
     "metadata": {},
     "output_type": "display_data"
    }
   ],
   "source": [
    "plt.figure(figsize=(15,8))\n",
    "sn.scatterplot(x=\"Dates\", y=\"Bull\", data=train_data, cmap='b')\n",
    "sn.scatterplot(x=\"Dates\", y=\"Cow\", data=train_data, cmap='g')\n",
    "sn.scatterplot(x=\"Dates\", y=\"Heifer\", data=train_data, cmap='y')\n",
    "sn.scatterplot(x=\"Dates\", y=\"Steer\", data=train_data, cmap='r')"
   ]
  },
  {
   "cell_type": "markdown",
   "id": "9df5df7e-056b-42a9-bbf3-c9304b08fc40",
   "metadata": {},
   "source": [
    "Selling earlier is advantageous because we are uncertain about the future, because the prices fluctuate.\n",
    "Selling bulls brings in more income than cows.\n",
    "The best time period to sell livestock is in between 2010 to 1012, 2012 to 2016, 2018 to 2022 when the market prices are high."
   ]
  },
  {
   "cell_type": "code",
   "execution_count": 23,
   "id": "178cd9fe-59e0-43c1-8b7f-1c17ee24a2f4",
   "metadata": {},
   "outputs": [
    {
     "data": {
      "text/plain": [
       "<Axes: xlabel='Seasons'>"
      ]
     },
     "execution_count": 23,
     "metadata": {},
     "output_type": "execute_result"
    },
    {
     "data": {
      "image/png": "[encoded data removed]",
      "text/plain": [
       "<Figure size 640x480 with 1 Axes>"
      ]
     },
     "metadata": {},
     "output_type": "display_data"
    }
   ],
   "source": [
    "df['Seasons'].value_counts().plot(kind='bar')"
   ]
  },
  {
   "cell_type": "markdown",
   "id": "c946d4c9-4e9c-418d-bc45-95c90a2bfbd1",
   "metadata": {},
   "source": [
    "There are more sales during Wet seasons than drought seasons."
   ]
  },
  {
   "cell_type": "code",
   "execution_count": 24,
   "id": "a823c8de-f7d0-460a-b6b3-e5b1419de6d1",
   "metadata": {},
   "outputs": [
    {
     "data": {
      "text/html": [
       "<div>\n",
       "<style scoped>\n",
       "    .dataframe tbody tr th:only-of-type {\n",
       "        vertical-align: middle;\n",
       "    }\n",
       "\n",
       "    .dataframe tbody tr th {\n",
       "        vertical-align: top;\n",
       "    }\n",
       "\n",
       "    .dataframe thead th {\n",
       "        text-align: right;\n",
       "    }\n",
       "</style>\n",
       "<table border=\"1\" class=\"dataframe\">\n",
       "  <thead>\n",
       "    <tr style=\"text-align: right;\">\n",
       "      <th></th>\n",
       "      <th>Dates</th>\n",
       "      <th>Seasons</th>\n",
       "    </tr>\n",
       "  </thead>\n",
       "  <tbody>\n",
       "    <tr>\n",
       "      <th>53</th>\n",
       "      <td>2014-01-01</td>\n",
       "      <td>Wet</td>\n",
       "    </tr>\n",
       "    <tr>\n",
       "      <th>19</th>\n",
       "      <td>2011-03-01</td>\n",
       "      <td>Wet</td>\n",
       "    </tr>\n",
       "    <tr>\n",
       "      <th>10</th>\n",
       "      <td>2010-06-01</td>\n",
       "      <td>Dry</td>\n",
       "    </tr>\n",
       "    <tr>\n",
       "      <th>123</th>\n",
       "      <td>2019-11-01</td>\n",
       "      <td>drought</td>\n",
       "    </tr>\n",
       "    <tr>\n",
       "      <th>147</th>\n",
       "      <td>2021-11-01</td>\n",
       "      <td>dry</td>\n",
       "    </tr>\n",
       "    <tr>\n",
       "      <th>...</th>\n",
       "      <td>...</td>\n",
       "      <td>...</td>\n",
       "    </tr>\n",
       "    <tr>\n",
       "      <th>119</th>\n",
       "      <td>2019-07-01</td>\n",
       "      <td>drought</td>\n",
       "    </tr>\n",
       "    <tr>\n",
       "      <th>27</th>\n",
       "      <td>2011-11-01</td>\n",
       "      <td>Wet</td>\n",
       "    </tr>\n",
       "    <tr>\n",
       "      <th>112</th>\n",
       "      <td>2018-12-01</td>\n",
       "      <td>Wet</td>\n",
       "    </tr>\n",
       "    <tr>\n",
       "      <th>131</th>\n",
       "      <td>2020-07-01</td>\n",
       "      <td>dry</td>\n",
       "    </tr>\n",
       "    <tr>\n",
       "      <th>148</th>\n",
       "      <td>2021-12-01</td>\n",
       "      <td>dry</td>\n",
       "    </tr>\n",
       "  </tbody>\n",
       "</table>\n",
       "<p>123 rows × 2 columns</p>\n",
       "</div>"
      ],
      "text/plain": [
       "         Dates  Seasons\n",
       "53  2014-01-01      Wet\n",
       "19  2011-03-01      Wet\n",
       "10  2010-06-01      Dry\n",
       "123 2019-11-01  drought\n",
       "147 2021-11-01      dry\n",
       "..         ...      ...\n",
       "119 2019-07-01  drought\n",
       "27  2011-11-01      Wet\n",
       "112 2018-12-01      Wet\n",
       "131 2020-07-01      dry\n",
       "148 2021-12-01      dry\n",
       "\n",
       "[123 rows x 2 columns]"
      ]
     },
     "execution_count": 24,
     "metadata": {},
     "output_type": "execute_result"
    }
   ],
   "source": [
    "x_train"
   ]
  },
  {
   "cell_type": "code",
   "execution_count": 35,
   "id": "16ce9389-6e78-41e3-8b31-1c245e4d44d5",
   "metadata": {},
   "outputs": [],
   "source": [
    "y_train\n",
    "x1_train= train_data.drop(['Dates','Bull','Cow','Heifer','Steer'], axis=1 )"
   ]
  },
  {
   "cell_type": "code",
   "execution_count": 36,
   "id": "e2ea44b9-0151-4181-996f-50d4064c1a1b",
   "metadata": {},
   "outputs": [],
   "source": [
    "test_data=x_test.join(y_test)\n",
    "test_data['Bull']=np.log(test_data['Bull']+1)\n",
    "test_data['Cow']=np.log(test_data['Cow']+1)\n",
    "test_data['Heifer']=np.log(test_data['Heifer']+1)\n",
    "test_data['Steer']=np.log(test_data['Steer']+1)\n",
    "\n",
    "test_data = test_data.join((pd.get_dummies(test_data.Seasons))).drop(['Seasons'],axis=1)"
   ]
  },
  {
   "cell_type": "code",
   "execution_count": 37,
   "id": "b42c233b-3af5-4661-8e87-34e46bb88d7d",
   "metadata": {},
   "outputs": [
    {
     "data": {
      "text/html": [
       "<style>#sk-container-id-1 {color: black;background-color: white;}#sk-container-id-1 pre{padding: 0;}#sk-container-id-1 div.sk-toggleable {background-color: white;}#sk-container-id-1 label.sk-toggleable__label {cursor: pointer;display: block;width: 100%;margin-bottom: 0;padding: 0.3em;box-sizing: border-box;text-align: center;}#sk-container-id-1 label.sk-toggleable__label-arrow:before {content: \"▸\";float: left;margin-right: 0.25em;color: #696969;}#sk-container-id-1 label.sk-toggleable__label-arrow:hover:before {color: black;}#sk-container-id-1 div.sk-estimator:hover label.sk-toggleable__label-arrow:before {color: black;}#sk-container-id-1 div.sk-toggleable__content {max-height: 0;max-width: 0;overflow: hidden;text-align: left;background-color: #f0f8ff;}#sk-container-id-1 div.sk-toggleable__content pre {margin: 0.2em;color: black;border-radius: 0.25em;background-color: #f0f8ff;}#sk-container-id-1 input.sk-toggleable__control:checked~div.sk-toggleable__content {max-height: 200px;max-width: 100%;overflow: auto;}#sk-container-id-1 input.sk-toggleable__control:checked~label.sk-toggleable__label-arrow:before {content: \"▾\";}#sk-container-id-1 div.sk-estimator input.sk-toggleable__control:checked~label.sk-toggleable__label {background-color: #d4ebff;}#sk-container-id-1 div.sk-label input.sk-toggleable__control:checked~label.sk-toggleable__label {background-color: #d4ebff;}#sk-container-id-1 input.sk-hidden--visually {border: 0;clip: rect(1px 1px 1px 1px);clip: rect(1px, 1px, 1px, 1px);height: 1px;margin: -1px;overflow: hidden;padding: 0;position: absolute;width: 1px;}#sk-container-id-1 div.sk-estimator {font-family: monospace;background-color: #f0f8ff;border: 1px dotted black;border-radius: 0.25em;box-sizing: border-box;margin-bottom: 0.5em;}#sk-container-id-1 div.sk-estimator:hover {background-color: #d4ebff;}#sk-container-id-1 div.sk-parallel-item::after {content: \"\";width: 100%;border-bottom: 1px solid gray;flex-grow: 1;}#sk-container-id-1 div.sk-label:hover label.sk-toggleable__label {background-color: #d4ebff;}#sk-container-id-1 div.sk-serial::before {content: \"\";position: absolute;border-left: 1px solid gray;box-sizing: border-box;top: 0;bottom: 0;left: 50%;z-index: 0;}#sk-container-id-1 div.sk-serial {display: flex;flex-direction: column;align-items: center;background-color: white;padding-right: 0.2em;padding-left: 0.2em;position: relative;}#sk-container-id-1 div.sk-item {position: relative;z-index: 1;}#sk-container-id-1 div.sk-parallel {display: flex;align-items: stretch;justify-content: center;background-color: white;position: relative;}#sk-container-id-1 div.sk-item::before, #sk-container-id-1 div.sk-parallel-item::before {content: \"\";position: absolute;border-left: 1px solid gray;box-sizing: border-box;top: 0;bottom: 0;left: 50%;z-index: -1;}#sk-container-id-1 div.sk-parallel-item {display: flex;flex-direction: column;z-index: 1;position: relative;background-color: white;}#sk-container-id-1 div.sk-parallel-item:first-child::after {align-self: flex-end;width: 50%;}#sk-container-id-1 div.sk-parallel-item:last-child::after {align-self: flex-start;width: 50%;}#sk-container-id-1 div.sk-parallel-item:only-child::after {width: 0;}#sk-container-id-1 div.sk-dashed-wrapped {border: 1px dashed gray;margin: 0 0.4em 0.5em 0.4em;box-sizing: border-box;padding-bottom: 0.4em;background-color: white;}#sk-container-id-1 div.sk-label label {font-family: monospace;font-weight: bold;display: inline-block;line-height: 1.2em;}#sk-container-id-1 div.sk-label-container {text-align: center;}#sk-container-id-1 div.sk-container {/* jupyter's `normalize.less` sets `[hidden] { display: none; }` but bootstrap.min.css set `[hidden] { display: none !important; }` so we also need the `!important` here to be able to override the default hidden behavior on the sphinx rendered scikit-learn.org. See: https://github.com/scikit-learn/scikit-learn/issues/21755 */display: inline-block !important;position: relative;}#sk-container-id-1 div.sk-text-repr-fallback {display: none;}</style><div id=\"sk-container-id-1\" class=\"sk-top-container\"><div class=\"sk-text-repr-fallback\"><pre>LinearRegression()</pre><b>In a Jupyter environment, please rerun this cell to show the HTML representation or trust the notebook. <br />On GitHub, the HTML representation is unable to render, please try loading this page with nbviewer.org.</b></div><div class=\"sk-container\" hidden><div class=\"sk-item\"><div class=\"sk-estimator sk-toggleable\"><input class=\"sk-toggleable__control sk-hidden--visually\" id=\"sk-estimator-id-1\" type=\"checkbox\" checked><label for=\"sk-estimator-id-1\" class=\"sk-toggleable__label sk-toggleable__label-arrow\">LinearRegression</label><div class=\"sk-toggleable__content\"><pre>LinearRegression()</pre></div></div></div></div></div>"
      ],
      "text/plain": [
       "LinearRegression()"
      ]
     },
     "execution_count": 37,
     "metadata": {},
     "output_type": "execute_result"
    }
   ],
   "source": [
    "from sklearn.linear_model import LinearRegression\n",
    "reg=LinearRegression()\n",
    "reg.fit(y_train, x1_train)"
   ]
  },
  {
   "cell_type": "code",
   "execution_count": 38,
   "id": "48a148c8-022a-4b68-95c0-515b099839dd",
   "metadata": {},
   "outputs": [
    {
     "data": {
      "text/plain": [
       "0.06140189220671349"
      ]
     },
     "execution_count": 38,
     "metadata": {},
     "output_type": "execute_result"
    }
   ],
   "source": [
    "reg.score(y_train, x1_train)\n"
   ]
  },
  {
   "cell_type": "markdown",
   "id": "f158c422-0125-41fa-95df-be2c0ff81ca2",
   "metadata": {},
   "source": [
    "Linear regression model gived 6% perfomance"
   ]
  },
  {
   "cell_type": "code",
   "execution_count": 39,
   "id": "bce97200-38bd-4b7c-80cc-8544031055f7",
   "metadata": {},
   "outputs": [
    {
     "data": {
      "text/html": [
       "<style>#sk-container-id-2 {color: black;background-color: white;}#sk-container-id-2 pre{padding: 0;}#sk-container-id-2 div.sk-toggleable {background-color: white;}#sk-container-id-2 label.sk-toggleable__label {cursor: pointer;display: block;width: 100%;margin-bottom: 0;padding: 0.3em;box-sizing: border-box;text-align: center;}#sk-container-id-2 label.sk-toggleable__label-arrow:before {content: \"▸\";float: left;margin-right: 0.25em;color: #696969;}#sk-container-id-2 label.sk-toggleable__label-arrow:hover:before {color: black;}#sk-container-id-2 div.sk-estimator:hover label.sk-toggleable__label-arrow:before {color: black;}#sk-container-id-2 div.sk-toggleable__content {max-height: 0;max-width: 0;overflow: hidden;text-align: left;background-color: #f0f8ff;}#sk-container-id-2 div.sk-toggleable__content pre {margin: 0.2em;color: black;border-radius: 0.25em;background-color: #f0f8ff;}#sk-container-id-2 input.sk-toggleable__control:checked~div.sk-toggleable__content {max-height: 200px;max-width: 100%;overflow: auto;}#sk-container-id-2 input.sk-toggleable__control:checked~label.sk-toggleable__label-arrow:before {content: \"▾\";}#sk-container-id-2 div.sk-estimator input.sk-toggleable__control:checked~label.sk-toggleable__label {background-color: #d4ebff;}#sk-container-id-2 div.sk-label input.sk-toggleable__control:checked~label.sk-toggleable__label {background-color: #d4ebff;}#sk-container-id-2 input.sk-hidden--visually {border: 0;clip: rect(1px 1px 1px 1px);clip: rect(1px, 1px, 1px, 1px);height: 1px;margin: -1px;overflow: hidden;padding: 0;position: absolute;width: 1px;}#sk-container-id-2 div.sk-estimator {font-family: monospace;background-color: #f0f8ff;border: 1px dotted black;border-radius: 0.25em;box-sizing: border-box;margin-bottom: 0.5em;}#sk-container-id-2 div.sk-estimator:hover {background-color: #d4ebff;}#sk-container-id-2 div.sk-parallel-item::after {content: \"\";width: 100%;border-bottom: 1px solid gray;flex-grow: 1;}#sk-container-id-2 div.sk-label:hover label.sk-toggleable__label {background-color: #d4ebff;}#sk-container-id-2 div.sk-serial::before {content: \"\";position: absolute;border-left: 1px solid gray;box-sizing: border-box;top: 0;bottom: 0;left: 50%;z-index: 0;}#sk-container-id-2 div.sk-serial {display: flex;flex-direction: column;align-items: center;background-color: white;padding-right: 0.2em;padding-left: 0.2em;position: relative;}#sk-container-id-2 div.sk-item {position: relative;z-index: 1;}#sk-container-id-2 div.sk-parallel {display: flex;align-items: stretch;justify-content: center;background-color: white;position: relative;}#sk-container-id-2 div.sk-item::before, #sk-container-id-2 div.sk-parallel-item::before {content: \"\";position: absolute;border-left: 1px solid gray;box-sizing: border-box;top: 0;bottom: 0;left: 50%;z-index: -1;}#sk-container-id-2 div.sk-parallel-item {display: flex;flex-direction: column;z-index: 1;position: relative;background-color: white;}#sk-container-id-2 div.sk-parallel-item:first-child::after {align-self: flex-end;width: 50%;}#sk-container-id-2 div.sk-parallel-item:last-child::after {align-self: flex-start;width: 50%;}#sk-container-id-2 div.sk-parallel-item:only-child::after {width: 0;}#sk-container-id-2 div.sk-dashed-wrapped {border: 1px dashed gray;margin: 0 0.4em 0.5em 0.4em;box-sizing: border-box;padding-bottom: 0.4em;background-color: white;}#sk-container-id-2 div.sk-label label {font-family: monospace;font-weight: bold;display: inline-block;line-height: 1.2em;}#sk-container-id-2 div.sk-label-container {text-align: center;}#sk-container-id-2 div.sk-container {/* jupyter's `normalize.less` sets `[hidden] { display: none; }` but bootstrap.min.css set `[hidden] { display: none !important; }` so we also need the `!important` here to be able to override the default hidden behavior on the sphinx rendered scikit-learn.org. See: https://github.com/scikit-learn/scikit-learn/issues/21755 */display: inline-block !important;position: relative;}#sk-container-id-2 div.sk-text-repr-fallback {display: none;}</style><div id=\"sk-container-id-2\" class=\"sk-top-container\"><div class=\"sk-text-repr-fallback\"><pre>RandomForestRegressor()</pre><b>In a Jupyter environment, please rerun this cell to show the HTML representation or trust the notebook. <br />On GitHub, the HTML representation is unable to render, please try loading this page with nbviewer.org.</b></div><div class=\"sk-container\" hidden><div class=\"sk-item\"><div class=\"sk-estimator sk-toggleable\"><input class=\"sk-toggleable__control sk-hidden--visually\" id=\"sk-estimator-id-2\" type=\"checkbox\" checked><label for=\"sk-estimator-id-2\" class=\"sk-toggleable__label sk-toggleable__label-arrow\">RandomForestRegressor</label><div class=\"sk-toggleable__content\"><pre>RandomForestRegressor()</pre></div></div></div></div></div>"
      ],
      "text/plain": [
       "RandomForestRegressor()"
      ]
     },
     "execution_count": 39,
     "metadata": {},
     "output_type": "execute_result"
    }
   ],
   "source": [
    "from sklearn.ensemble import RandomForestRegressor\n",
    "forest=RandomForestRegressor()\n",
    "forest.fit(y_train, x1_train)\n"
   ]
  },
  {
   "cell_type": "code",
   "execution_count": 40,
   "id": "01fd0e7d-3899-415a-82d7-b853645be098",
   "metadata": {},
   "outputs": [
    {
     "data": {
      "text/plain": [
       "0.8846836631253345"
      ]
     },
     "execution_count": 40,
     "metadata": {},
     "output_type": "execute_result"
    }
   ],
   "source": [
    "forest.score(y_train, x1_train)"
   ]
  },
  {
   "cell_type": "markdown",
   "id": "f3105938-c470-40ca-a504-e78660440769",
   "metadata": {},
   "source": [
    "Random forest regressor gives 88%. therefore the best model is Random Forest Regressor"
   ]
  },
  {
   "cell_type": "code",
   "execution_count": null,
   "id": "db1f61f6-89e9-422e-9743-8e0bf9cda971",
   "metadata": {},
   "outputs": [],
   "source": []
  }
 ],
 "metadata": {
  "kernelspec": {
   "display_name": "Python 3 (ipykernel)",
   "language": "python",
   "name": "python3"
  },
  "language_info": {
   "codemirror_mode": {
    "name": "ipython",
    "version": 3
   },
   "file_extension": ".py",
   "mimetype": "text/x-python",
   "name": "python",
   "nbconvert_exporter": "python",
   "pygments_lexer": "ipython3",
   "version": "3.11.7"
  }
 },
 "nbformat": 4,
 "nbformat_minor": 5
}
